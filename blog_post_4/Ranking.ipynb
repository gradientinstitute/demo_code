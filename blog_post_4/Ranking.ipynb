{
 "cells": [
  {
   "cell_type": "code",
   "execution_count": 4,
   "metadata": {},
   "outputs": [],
   "source": [
    "# Import libraries:\n",
    "import numpy as np\n",
    "from sklearn.linear_model import LogisticRegression\n",
    "from sklearn.metrics import confusion_matrix\n",
    "import matplotlib.pyplot as pl\n",
    "%matplotlib inline"
   ]
  },
  {
   "cell_type": "markdown",
   "metadata": {},
   "source": [
    "- small change re. gender skews rankings\n",
    "- different models? or draws from noise below\n",
    "- draws of noise totally change rangkings\n",
    "- discontinuity implies invidivual fairness not satisfied\n",
    "- accuracy/cost slightly better with rankings\n",
    "- covariate shift on the relative propensity of the genders\n",
    "- ranking means you never observe most of the space\n",
    "- plot error rate vs size of samples -- curve has different behaviour\n",
    "- conceptually, difference between auditing and university admission -- could\n",
    "- terry tao miss out at uni?\n",
    "- is there some explict work here on the probability our model is wrong\n",
    "- doing utility function question on the utils\n",
    "- define costs for false positives and false negatives then see what happens\n",
    "- over the whole cohort"
   ]
  },
  {
   "cell_type": "markdown",
   "metadata": {},
   "source": [
    "# Ranking and Fair Selection\n",
    "\n",
    "\n",
    "Imagine a government building an AI-driven auditing system to find people at 'high risk' of being tax cheats, and then auditing them based on that risk. This is a pretty common use case, in fact a number of government already use ML in this way to do targeted auditing of various kinds.\n",
    "\n",
    "The approach here is to take the historical records of auditing results and use them to build a model that maps data available about the whole cohort to a risk score. There are many interesting and difficult ethical challenges here, but this blog entry wants to focus on one: once we have a risk score, how do we select who to audit?\n",
    "\n",
    "## Ranking\n",
    "\n",
    "A very common strategy is to select by ranking: audit the *n* individuals with the highest risk scores. What are the consequences of this approach, and are there any drawbacks?\n",
    "\n",
    "IF your estimation of risk is accurate, then these individuals will in fact be the ones most likely to be tax cheats. So if your goal is purely to find tax cheats in a one-off audit, it's the optimal strategy. \n",
    "\n",
    "\n",
    "## Fairness\n",
    "\n",
    "What is the effect of ranking-based selection on different demographics?\n",
    "\n",
    "\n",
    "\n"
   ]
  },
  {
   "cell_type": "code",
   "execution_count": 5,
   "metadata": {},
   "outputs": [
    {
     "data": {
      "text/plain": [
       "(array([  4.,  13.,  44.,  76., 184., 310., 468., 637., 710., 735., 652.,\n",
       "        485., 333., 189.,  88.,  34.,  23.,   3.,   0.,   2.]),\n",
       " array([-3.43592581, -3.05572364, -2.67552146, -2.29531929, -1.91511711,\n",
       "        -1.53491494, -1.15471276, -0.77451059, -0.39430841, -0.01410624,\n",
       "         0.36609593,  0.74629811,  1.12650028,  1.50670246,  1.88690463,\n",
       "         2.26710681,  2.64730898,  3.02751115,  3.40771333,  3.7879155 ,\n",
       "         4.16811768]),\n",
       " <a list of 20 Patch objects>)"
      ]
     },
     "execution_count": 5,
     "metadata": {},
     "output_type": "execute_result"
    },
    {
     "data": {
      "image/png": "[encoded data removed]",
      "text/plain": [
       "<Figure size 750x375 with 1 Axes>"
      ]
     },
     "metadata": {
      "needs_background": "light"
     },
     "output_type": "display_data"
    }
   ],
   "source": [
    "n = 10000 # number of unit records\n",
    "frac_green = 0.5  # fraction of population that are green\n",
    "def generate_data(n, delta_loc_green=0.1, delta_scale_green=0, seed=1, uniform=False, frac_green=0.5):\n",
    "    loc = 0.0\n",
    "    scale = 1.0\n",
    "    rnd = np.random.RandomState(seed=1)\n",
    "    X_isgreen = rnd.choice([0,1], size=n, p=[1 - frac_green, frac_green]).astype(bool)\n",
    "    n_green = np.sum(X_isgreen)\n",
    "    n_nogreen = n - n_green\n",
    "    \n",
    "    X1_green = rnd.normal(loc=(loc + delta_loc_green), scale=(scale + delta_scale_green), size=n_green)\n",
    "    X1_nogreen = rnd.normal(loc=loc, scale=scale, size=n_nogreen)\n",
    "    X1 = np.zeros(n)\n",
    "    X1[X_isgreen] = X1_green\n",
    "    X1[~X_isgreen] = X1_nogreen\n",
    "    return np.vstack((X1, X_isgreen)).T\n",
    "\n",
    "X_latent = generate_data(n, seed=1)\n",
    "isgreen = X_latent[:, 1].astype(bool)\n",
    "pl.figure(figsize=(5,2.5), dpi=150)\n",
    "pl.hist(X_latent[:, 0][isgreen], bins=20)\n",
    "pl.hist(X_latent[:, 0][~isgreen], bins=20)\n"
   ]
  },
  {
   "cell_type": "code",
   "execution_count": 21,
   "metadata": {},
   "outputs": [
    {
     "data": {
      "image/png": "[encoded data removed]",
      "text/plain": [
       "<Figure size 432x288 with 1 Axes>"
      ]
     },
     "metadata": {
      "needs_background": "light"
     },
     "output_type": "display_data"
    }
   ],
   "source": [
    "def logistic(x, L, k, x_0):\n",
    "    r = L / (1 + np.exp( -1 * k * (x - x_0) ))\n",
    "    return r\n",
    "\n",
    "def true_prob(X):\n",
    "    L = 0.75\n",
    "    k = 2\n",
    "    x0 = -1.0\n",
    "    base_rate = 0.8    \n",
    "    p = base_rate - logistic(X[:,0], L, k, x0)\n",
    "    return p\n",
    "    \n",
    "P = true_prob(X_latent)\n",
    "\n",
    "pl.figure()\n",
    "pl.scatter(X_latent[:, 0], P)\n",
    "pl.show()"
   ]
  },
  {
   "cell_type": "code",
   "execution_count": 25,
   "metadata": {},
   "outputs": [
    {
     "data": {
      "image/png": "[encoded data removed]",
      "text/plain": [
       "<Figure size 432x288 with 1 Axes>"
      ]
     },
     "metadata": {
      "needs_background": "light"
     },
     "output_type": "display_data"
    }
   ],
   "source": [
    "\n",
    "def sample_results(p, seed=0):\n",
    "    rnd = np.random.RandomState(seed)\n",
    "    results = rnd.uniform(size=p.shape) < p\n",
    "    return results\n",
    "\n",
    "# Note I'm getting the true prob here\n",
    "P = true_prob(X_latent)\n",
    "Y = sample_results(P)\n",
    "\n",
    "\n",
    "def draw_observations(X_latent, seed=1, loc=0.0, scale=0.3):\n",
    "    rnd = np.random.RandomState(seed)\n",
    "    X_noise = X_latent[:, 0] + rnd.normal(loc=loc, scale=scale, size=X_latent.shape[0])\n",
    "    return np.vstack((X_noise, X_latent[:,1])).T\n",
    "\n",
    "X = draw_observations(X_latent)\n",
    "\n",
    "pl.figure()\n",
    "pl.scatter(X[:, 0], P)\n",
    "pl.scatter(X[:, 0], Y)\n",
    "pl.show()\n"
   ]
  },
  {
   "cell_type": "code",
   "execution_count": 35,
   "metadata": {},
   "outputs": [
    {
     "data": {
      "image/png": "[encoded data removed]",
      "text/plain": [
       "<Figure size 432x288 with 1 Axes>"
      ]
     },
     "metadata": {
      "needs_background": "light"
     },
     "output_type": "display_data"
    },
    {
     "name": "stdout",
     "output_type": "stream",
     "text": [
      "Accuracy: 0.71\n",
      "Frac green selected: 0.42\n",
      "Frac green guilty: 0.501\n"
     ]
    }
   ],
   "source": [
    "n_select = 100\n",
    "\n",
    "def train_test(X, Y, P):\n",
    "    X_train = X[:n//2]\n",
    "    X_test = X[n//2:]\n",
    "    Y_train = Y[:n//2]\n",
    "    Y_test = Y[n//2:]\n",
    "    P_train = Y[n//2:]\n",
    "    P_test = Y[:n//2]\n",
    "    return X_train, X_test, Y_train, Y_test, P_train, P_test\n",
    "\n",
    "def estimate(X_train, Y_train, X_test):\n",
    "    model = LogisticRegression(solver='lbfgs')\n",
    "    # model = LogisticRegression(class_weight='balanced', solver='lbfgs')\n",
    "    # model = SVC(probability=True, kernel='poly')\n",
    "    model.fit(X_train, Y_train)\n",
    "    p_est = model.predict_proba(X_test)[:, 1]    \n",
    "    return p_est\n",
    "\n",
    "\n",
    "def rank(p, Y_test, P_test):\n",
    "    rank = np.argsort(p)[::-1]\n",
    "    p_rank = p[rank][0:n_select]\n",
    "    p_true = P_test[rank][0:n_select]\n",
    "    y_true = Y_test[rank][0:n_select]\n",
    "    return p_rank, p_true, y_true\n",
    "\n",
    "\n",
    "# rank and select the top\n",
    "\n",
    "\n",
    "pl.figure()\n",
    "pl.scatter(p_rank, p_true)\n",
    "pl.show()\n",
    "\n",
    "p_rank, p_true, y_true = estimate_and_rank(X, Y)\n",
    "\n",
    "def stats(p_rank, p_true, y_true):\n",
    "    acc = np.sum(y_true) / y_true.shape[0]\n",
    "    frac_green = np.sum(X[:,1][rank][0:n_select]) / n_select\n",
    "    return acc, frac_green\n",
    "    \n",
    "    \n",
    "print(\"Accuracy: {}\".format(acc))\n",
    "print(\"Frac green selected: {}\".format(frac_green))\n",
    "print(\"Frac green guilty: {}\".format(np.sum(X[:, 1]) / X.shape[0]))\n",
    "\n",
    "\n",
    "\n"
   ]
  },
  {
   "cell_type": "code",
   "execution_count": 41,
   "metadata": {},
   "outputs": [
    {
     "ename": "IndexError",
     "evalue": "only integers, slices (`:`), ellipsis (`...`), numpy.newaxis (`None`) and integer or boolean arrays are valid indices",
     "output_type": "error",
     "traceback": [
      "\u001b[0;31m---------------------------------------------------------------------------\u001b[0m",
      "\u001b[0;31mIndexError\u001b[0m                                Traceback (most recent call last)",
      "\u001b[0;32m<ipython-input-41-27f11992830d>\u001b[0m in \u001b[0;36m<module>\u001b[0;34m\u001b[0m\n\u001b[1;32m     17\u001b[0m \u001b[0;34m\u001b[0m\u001b[0m\n\u001b[1;32m     18\u001b[0m \u001b[0;34m\u001b[0m\u001b[0m\n\u001b[0;32m---> 19\u001b[0;31m \u001b[0macc_vector\u001b[0m\u001b[0;34m,\u001b[0m \u001b[0mbias_vector\u001b[0m \u001b[0;34m=\u001b[0m \u001b[0mbaserate_selection_plot\u001b[0m\u001b[0;34m(\u001b[0m\u001b[0;34m)\u001b[0m\u001b[0;34m\u001b[0m\u001b[0;34m\u001b[0m\u001b[0m\n\u001b[0m\u001b[1;32m     20\u001b[0m \u001b[0mpl\u001b[0m\u001b[0;34m.\u001b[0m\u001b[0mfigure\u001b[0m\u001b[0;34m(\u001b[0m\u001b[0;34m)\u001b[0m\u001b[0;34m\u001b[0m\u001b[0;34m\u001b[0m\u001b[0m\n\u001b[1;32m     21\u001b[0m \u001b[0mpl\u001b[0m\u001b[0;34m.\u001b[0m\u001b[0mplot\u001b[0m\u001b[0;34m(\u001b[0m\u001b[0mbaserates\u001b[0m\u001b[0;34m,\u001b[0m \u001b[0mbias_vector\u001b[0m\u001b[0;34m)\u001b[0m\u001b[0;34m\u001b[0m\u001b[0;34m\u001b[0m\u001b[0m\n",
      "\u001b[0;32m<ipython-input-41-27f11992830d>\u001b[0m in \u001b[0;36mbaserate_selection_plot\u001b[0;34m()\u001b[0m\n\u001b[1;32m      1\u001b[0m \u001b[0;32mdef\u001b[0m \u001b[0mbaserate_selection_plot\u001b[0m\u001b[0;34m(\u001b[0m\u001b[0;34m)\u001b[0m\u001b[0;34m:\u001b[0m\u001b[0;34m\u001b[0m\u001b[0;34m\u001b[0m\u001b[0m\n\u001b[1;32m      2\u001b[0m     \u001b[0mbaserates\u001b[0m \u001b[0;34m=\u001b[0m \u001b[0mnp\u001b[0m\u001b[0;34m.\u001b[0m\u001b[0mlinspace\u001b[0m\u001b[0;34m(\u001b[0m\u001b[0;36m0\u001b[0m\u001b[0;34m,\u001b[0m \u001b[0;36m1\u001b[0m\u001b[0;34m,\u001b[0m \u001b[0;36m20\u001b[0m\u001b[0;34m)\u001b[0m\u001b[0;34m\u001b[0m\u001b[0;34m\u001b[0m\u001b[0m\n\u001b[0;32m----> 3\u001b[0;31m     \u001b[0mout\u001b[0m \u001b[0;34m=\u001b[0m \u001b[0;34m[\u001b[0m\u001b[0mbaserate_rank\u001b[0m\u001b[0;34m(\u001b[0m\u001b[0mb\u001b[0m\u001b[0;34m)\u001b[0m \u001b[0;32mfor\u001b[0m \u001b[0mb\u001b[0m \u001b[0;32min\u001b[0m \u001b[0mbaserates\u001b[0m\u001b[0;34m]\u001b[0m\u001b[0;34m\u001b[0m\u001b[0;34m\u001b[0m\u001b[0m\n\u001b[0m\u001b[1;32m      4\u001b[0m     \u001b[0macc_vector\u001b[0m\u001b[0;34m,\u001b[0m \u001b[0mbias_vector\u001b[0m \u001b[0;34m=\u001b[0m \u001b[0mzip\u001b[0m\u001b[0;34m(\u001b[0m\u001b[0;34m*\u001b[0m\u001b[0mout\u001b[0m\u001b[0;34m)\u001b[0m\u001b[0;34m\u001b[0m\u001b[0;34m\u001b[0m\u001b[0m\n\u001b[1;32m      5\u001b[0m     \u001b[0;32mreturn\u001b[0m \u001b[0mbaserates\u001b[0m\u001b[0;34m,\u001b[0m \u001b[0macc_vector\u001b[0m\u001b[0;34m,\u001b[0m \u001b[0mbias_vector\u001b[0m\u001b[0;34m\u001b[0m\u001b[0;34m\u001b[0m\u001b[0m\n",
      "\u001b[0;32m<ipython-input-41-27f11992830d>\u001b[0m in \u001b[0;36m<listcomp>\u001b[0;34m(.0)\u001b[0m\n\u001b[1;32m      1\u001b[0m \u001b[0;32mdef\u001b[0m \u001b[0mbaserate_selection_plot\u001b[0m\u001b[0;34m(\u001b[0m\u001b[0;34m)\u001b[0m\u001b[0;34m:\u001b[0m\u001b[0;34m\u001b[0m\u001b[0;34m\u001b[0m\u001b[0m\n\u001b[1;32m      2\u001b[0m     \u001b[0mbaserates\u001b[0m \u001b[0;34m=\u001b[0m \u001b[0mnp\u001b[0m\u001b[0;34m.\u001b[0m\u001b[0mlinspace\u001b[0m\u001b[0;34m(\u001b[0m\u001b[0;36m0\u001b[0m\u001b[0;34m,\u001b[0m \u001b[0;36m1\u001b[0m\u001b[0;34m,\u001b[0m \u001b[0;36m20\u001b[0m\u001b[0;34m)\u001b[0m\u001b[0;34m\u001b[0m\u001b[0;34m\u001b[0m\u001b[0m\n\u001b[0;32m----> 3\u001b[0;31m     \u001b[0mout\u001b[0m \u001b[0;34m=\u001b[0m \u001b[0;34m[\u001b[0m\u001b[0mbaserate_rank\u001b[0m\u001b[0;34m(\u001b[0m\u001b[0mb\u001b[0m\u001b[0;34m)\u001b[0m \u001b[0;32mfor\u001b[0m \u001b[0mb\u001b[0m \u001b[0;32min\u001b[0m \u001b[0mbaserates\u001b[0m\u001b[0;34m]\u001b[0m\u001b[0;34m\u001b[0m\u001b[0;34m\u001b[0m\u001b[0m\n\u001b[0m\u001b[1;32m      4\u001b[0m     \u001b[0macc_vector\u001b[0m\u001b[0;34m,\u001b[0m \u001b[0mbias_vector\u001b[0m \u001b[0;34m=\u001b[0m \u001b[0mzip\u001b[0m\u001b[0;34m(\u001b[0m\u001b[0;34m*\u001b[0m\u001b[0mout\u001b[0m\u001b[0;34m)\u001b[0m\u001b[0;34m\u001b[0m\u001b[0;34m\u001b[0m\u001b[0m\n\u001b[1;32m      5\u001b[0m     \u001b[0;32mreturn\u001b[0m \u001b[0mbaserates\u001b[0m\u001b[0;34m,\u001b[0m \u001b[0macc_vector\u001b[0m\u001b[0;34m,\u001b[0m \u001b[0mbias_vector\u001b[0m\u001b[0;34m\u001b[0m\u001b[0;34m\u001b[0m\u001b[0m\n",
      "\u001b[0;32m<ipython-input-41-27f11992830d>\u001b[0m in \u001b[0;36mbaserate_rank\u001b[0;34m(b)\u001b[0m\n\u001b[1;32m     13\u001b[0m     \u001b[0mPe\u001b[0m \u001b[0;34m=\u001b[0m \u001b[0mestimate\u001b[0m\u001b[0;34m(\u001b[0m\u001b[0mX\u001b[0m\u001b[0;34m,\u001b[0m \u001b[0mY\u001b[0m\u001b[0;34m,\u001b[0m \u001b[0mXs\u001b[0m\u001b[0;34m)\u001b[0m\u001b[0;34m\u001b[0m\u001b[0;34m\u001b[0m\u001b[0m\n\u001b[1;32m     14\u001b[0m     \u001b[0mPe_rank\u001b[0m\u001b[0;34m,\u001b[0m \u001b[0mP_rank\u001b[0m\u001b[0;34m,\u001b[0m \u001b[0mY_rank\u001b[0m \u001b[0;34m=\u001b[0m \u001b[0mrank\u001b[0m\u001b[0;34m(\u001b[0m\u001b[0mPe\u001b[0m\u001b[0;34m,\u001b[0m \u001b[0mYs\u001b[0m\u001b[0;34m,\u001b[0m \u001b[0mPs\u001b[0m\u001b[0;34m)\u001b[0m\u001b[0;34m\u001b[0m\u001b[0;34m\u001b[0m\u001b[0m\n\u001b[0;32m---> 15\u001b[0;31m     \u001b[0mstats\u001b[0m\u001b[0;34m(\u001b[0m\u001b[0mPe_rank\u001b[0m\u001b[0;34m,\u001b[0m \u001b[0mP_rank\u001b[0m\u001b[0;34m,\u001b[0m \u001b[0mY_rank\u001b[0m\u001b[0;34m)\u001b[0m\u001b[0;34m\u001b[0m\u001b[0;34m\u001b[0m\u001b[0m\n\u001b[0m\u001b[1;32m     16\u001b[0m     \u001b[0;32mreturn\u001b[0m \u001b[0macc\u001b[0m\u001b[0;34m,\u001b[0m \u001b[0mfrac_green\u001b[0m\u001b[0;34m\u001b[0m\u001b[0;34m\u001b[0m\u001b[0m\n\u001b[1;32m     17\u001b[0m \u001b[0;34m\u001b[0m\u001b[0m\n",
      "\u001b[0;32m<ipython-input-35-abfe2097d6a2>\u001b[0m in \u001b[0;36mstats\u001b[0;34m(p_rank, p_true, y_true)\u001b[0m\n\u001b[1;32m     38\u001b[0m \u001b[0;32mdef\u001b[0m \u001b[0mstats\u001b[0m\u001b[0;34m(\u001b[0m\u001b[0mp_rank\u001b[0m\u001b[0;34m,\u001b[0m \u001b[0mp_true\u001b[0m\u001b[0;34m,\u001b[0m \u001b[0my_true\u001b[0m\u001b[0;34m)\u001b[0m\u001b[0;34m:\u001b[0m\u001b[0;34m\u001b[0m\u001b[0;34m\u001b[0m\u001b[0m\n\u001b[1;32m     39\u001b[0m     \u001b[0macc\u001b[0m \u001b[0;34m=\u001b[0m \u001b[0mnp\u001b[0m\u001b[0;34m.\u001b[0m\u001b[0msum\u001b[0m\u001b[0;34m(\u001b[0m\u001b[0my_true\u001b[0m\u001b[0;34m)\u001b[0m \u001b[0;34m/\u001b[0m \u001b[0my_true\u001b[0m\u001b[0;34m.\u001b[0m\u001b[0mshape\u001b[0m\u001b[0;34m[\u001b[0m\u001b[0;36m0\u001b[0m\u001b[0;34m]\u001b[0m\u001b[0;34m\u001b[0m\u001b[0;34m\u001b[0m\u001b[0m\n\u001b[0;32m---> 40\u001b[0;31m     \u001b[0mfrac_green\u001b[0m \u001b[0;34m=\u001b[0m \u001b[0mnp\u001b[0m\u001b[0;34m.\u001b[0m\u001b[0msum\u001b[0m\u001b[0;34m(\u001b[0m\u001b[0mX\u001b[0m\u001b[0;34m[\u001b[0m\u001b[0;34m:\u001b[0m\u001b[0;34m,\u001b[0m\u001b[0;36m1\u001b[0m\u001b[0;34m]\u001b[0m\u001b[0;34m[\u001b[0m\u001b[0mrank\u001b[0m\u001b[0;34m]\u001b[0m\u001b[0;34m[\u001b[0m\u001b[0;36m0\u001b[0m\u001b[0;34m:\u001b[0m\u001b[0mn_select\u001b[0m\u001b[0;34m]\u001b[0m\u001b[0;34m)\u001b[0m \u001b[0;34m/\u001b[0m \u001b[0mn_select\u001b[0m\u001b[0;34m\u001b[0m\u001b[0;34m\u001b[0m\u001b[0m\n\u001b[0m\u001b[1;32m     41\u001b[0m \u001b[0mprint\u001b[0m\u001b[0;34m(\u001b[0m\u001b[0;34m\"Accuracy: {}\"\u001b[0m\u001b[0;34m.\u001b[0m\u001b[0mformat\u001b[0m\u001b[0;34m(\u001b[0m\u001b[0macc\u001b[0m\u001b[0;34m)\u001b[0m\u001b[0;34m)\u001b[0m\u001b[0;34m\u001b[0m\u001b[0;34m\u001b[0m\u001b[0m\n\u001b[1;32m     42\u001b[0m \u001b[0mprint\u001b[0m\u001b[0;34m(\u001b[0m\u001b[0;34m\"Frac green selected: {}\"\u001b[0m\u001b[0;34m.\u001b[0m\u001b[0mformat\u001b[0m\u001b[0;34m(\u001b[0m\u001b[0mfrac_green\u001b[0m\u001b[0;34m)\u001b[0m\u001b[0;34m)\u001b[0m\u001b[0;34m\u001b[0m\u001b[0;34m\u001b[0m\u001b[0m\n",
      "\u001b[0;31mIndexError\u001b[0m: only integers, slices (`:`), ellipsis (`...`), numpy.newaxis (`None`) and integer or boolean arrays are valid indices"
     ]
    }
   ],
   "source": [
    "def baserate_selection_plot():\n",
    "    baserates = np.linspace(0, 1, 20)\n",
    "    out = [baserate_rank(b) for b in baserates]\n",
    "    acc_vector, bias_vector = zip(*out)\n",
    "    return baserates, acc_vector, bias_vector\n",
    "        \n",
    "def baserate_rank(b):\n",
    "    Xl = generate_data(n, delta_loc_green=b)\n",
    "    P = true_prob(Xl)\n",
    "    Y = sample_results(P)\n",
    "    X = draw_observations(Xl)\n",
    "    X, Xs, Y, Ys, P, Ps = train_test(X, Y, P)\n",
    "    Pe = estimate(X, Y, Xs)\n",
    "    Pe_rank, P_rank, Y_rank = rank(Pe, Ys, Ps)\n",
    "    stats(Pe_rank, P_rank, Y_rank)\n",
    "    return acc, frac_green\n",
    "        \n",
    "\n",
    "acc_vector, bias_vector = baserate_selection_plot()\n",
    "pl.figure()\n",
    "pl.plot(baserates, bias_vector)\n",
    "pl.plot(baserates, acc_vector)\n",
    "pl.show()\n",
    "    "
   ]
  },
  {
   "cell_type": "code",
   "execution_count": null,
   "metadata": {},
   "outputs": [],
   "source": []
  }
 ],
 "metadata": {
  "kernelspec": {
   "display_name": "Python 3",
   "language": "python",
   "name": "python3"
  },
  "language_info": {
   "codemirror_mode": {
    "name": "ipython",
    "version": 3
   },
   "file_extension": ".py",
   "mimetype": "text/x-python",
   "name": "python",
   "nbconvert_exporter": "python",
   "pygments_lexer": "ipython3",
   "version": "3.7.2"
  }
 },
 "nbformat": 4,
 "nbformat_minor": 2
}
