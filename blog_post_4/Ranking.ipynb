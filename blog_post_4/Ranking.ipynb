{
 "cells": [
  {
   "cell_type": "markdown",
   "metadata": {},
   "source": [
    "# Ranking and Fair Selection\n",
    "\n",
    "\n",
    "Imagine a government building an AI-driven auditing system to find people at 'high risk' of being tax cheats, and then auditing them based on that risk. This is a pretty common use case, in fact a number of government already use ML in this way to do targeted auditing of various kinds.\n",
    "\n",
    "The approach here is to take the historical records of auditing results and use them to build a model that maps data available about the whole cohort to a risk score. There are many interesting and difficult ethical challenges here, but this blog entry wants to focus on one: once we have a risk score, how do we select who to audit?\n",
    "\n",
    "- small change re. gender skews rankings\n",
    "- different models? or draws from noise below\n",
    "- draws of noise totally change rangkings\n",
    "- discontinuity implies invidivual fairness not satisfied\n",
    "- accuracy/cost slightly better with rankings\n",
    "- covariate shift on the relative propensity of the genders\n",
    "- ranking means you never observe most of the space\n",
    "- plot error rate vs size of samples -- curve has different behaviour\n",
    "- conceptually, difference between auditing and university admission -- could\n",
    "- terry tao miss out at uni?\n",
    "- is there some explict work here on the probability our model is wrong\n",
    "- doing utility function question on the utils\n",
    "- define costs for false positives and false negatives then see what happens\n",
    "- over the whole cohort\n",
    "\n",
    "\n",
    "\n"
   ]
  },
  {
   "cell_type": "code",
   "execution_count": 2,
   "metadata": {},
   "outputs": [],
   "source": [
    "# Import libraries:\n",
    "import numpy as np\n",
    "from sklearn.linear_model import LogisticRegression\n",
    "from sklearn.metrics import confusion_matrix\n",
    "import matplotlib.pyplot as pl\n",
    "%matplotlib inline"
   ]
  },
  {
   "cell_type": "code",
   "execution_count": 8,
   "metadata": {},
   "outputs": [
    {
     "name": "stdout",
     "output_type": "stream",
     "text": [
      "(100000, 2)\n"
     ]
    }
   ],
   "source": [
    "n = 10000 # number of unit records\n",
    "n_select = 100\n",
    "frac_green = 0.5\n",
    "\n",
    "def generate_data(n):\n",
    "    a = 0.5\n",
    "    b = 10\n",
    "    # X1 = np.random.gamma(a, b, size=n)\n",
    "    X1 = np.random.uniform(low=0., high=50., size=n)\n",
    "    X2 = np.random.choice([0,1], size=n, p=[1 - frac_green, frac_green])\n",
    "    return np.vstack((X1, X2)).T\n",
    "\n",
    "def logistic(x, L, k, x_0):\n",
    "    r = L / (1 + np.exp( -1 * k * (x - x_0) ))\n",
    "    return r\n",
    "\n",
    "def true_prob(X):\n",
    "    L = 0.75\n",
    "    k = 1\n",
    "    x_0 = 10.0\n",
    "    base_rate = 0.8\n",
    "    X_noise = X[:, 0] + np.random.normal(scale=1.0, size=X.shape[0])\n",
    "    p1 = base_rate - logistic(X_noise, L, k, x_0)\n",
    "    results = np.random.uniform(size=p1.shape) < p1\n",
    "    return p1, results\n",
    "\n",
    "\n",
    "X = generate_data(n)\n",
    "p, Y = true_prob(X)\n",
    "\n",
    "model = LogisticRegression(solver='lbfgs')\n",
    "# model = LogisticRegression(class_weight='balanced', solver='lbfgs')\n",
    "# model = SVC(probability=True, kernel='poly')\n",
    "model.fit(X, Y)\n",
    "p_est = model.predict_proba(X)[:, 1]\n",
    "\n",
    "\n",
    "# rank and select the top\n",
    "rank = np.argsort(p_est)[::-1]\n",
    "p_rank = p_est[rank][0:n_select]\n",
    "p_true = p[rank][0:n_select]\n",
    "y_true = Y[rank][0:n_select]\n",
    "acc = np.sum(y_true) / y_true.shape[0]\n"
   ]
  },
  {
   "cell_type": "code",
   "execution_count": null,
   "metadata": {},
   "outputs": [],
   "source": []
  }
 ],
 "metadata": {
  "kernelspec": {
   "display_name": "Python 3",
   "language": "python",
   "name": "python3"
  },
  "language_info": {
   "codemirror_mode": {
    "name": "ipython",
    "version": 3
   },
   "file_extension": ".py",
   "mimetype": "text/x-python",
   "name": "python",
   "nbconvert_exporter": "python",
   "pygments_lexer": "ipython3",
   "version": "3.7.2"
  }
 },
 "nbformat": 4,
 "nbformat_minor": 2
}
