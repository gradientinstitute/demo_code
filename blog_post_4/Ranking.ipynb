{
 "cells": [
  {
   "cell_type": "code",
   "execution_count": 9,
   "metadata": {},
   "outputs": [],
   "source": [
    "# Import libraries:\n",
    "import numpy as np\n",
    "from sklearn.linear_model import LogisticRegression\n",
    "from sklearn.metrics import confusion_matrix\n",
    "import matplotlib.pyplot as pl\n",
    "%matplotlib inline"
   ]
  },
  {
   "cell_type": "markdown",
   "metadata": {},
   "source": [
    "# Ranking and Fair Selection\n",
    "\n",
    "\n",
    "Imagine a government building an AI-driven auditing system to find people at 'high risk' of being tax cheats, and then auditing them based on that risk. This is a pretty common use case, in fact a number of government already use ML in this way to do targeted auditing of various kinds.\n",
    "\n",
    "The approach here is to take the historical records of auditing results and use them to build a model that maps data available about the whole cohort to a risk score. There are many interesting and difficult ethical challenges here, but this blog entry wants to focus on one: once we have a risk score, how do we select who to audit?\n",
    "\n",
    "- small change re. gender skews rankings\n",
    "- different models? or draws from noise below\n",
    "- draws of noise totally change rangkings\n",
    "- discontinuity implies invidivual fairness not satisfied\n",
    "- accuracy/cost slightly better with rankings\n",
    "- covariate shift on the relative propensity of the genders\n",
    "- ranking means you never observe most of the space\n",
    "- plot error rate vs size of samples -- curve has different behaviour\n",
    "- conceptually, difference between auditing and university admission -- could\n",
    "- terry tao miss out at uni?\n",
    "- is there some explict work here on the probability our model is wrong\n",
    "- doing utility function question on the utils\n",
    "- define costs for false positives and false negatives then see what happens\n",
    "- over the whole cohort\n",
    "\n",
    "\n",
    "\n"
   ]
  },
  {
   "cell_type": "code",
   "execution_count": 75,
   "metadata": {},
   "outputs": [
    {
     "data": {
      "text/plain": [
       "(array([  4.,  13.,  44.,  76., 184., 310., 468., 637., 710., 735., 652.,\n",
       "        485., 333., 189.,  88.,  34.,  23.,   3.,   0.,   2.]),\n",
       " array([-3.43592581, -3.05572364, -2.67552146, -2.29531929, -1.91511711,\n",
       "        -1.53491494, -1.15471276, -0.77451059, -0.39430841, -0.01410624,\n",
       "         0.36609593,  0.74629811,  1.12650028,  1.50670246,  1.88690463,\n",
       "         2.26710681,  2.64730898,  3.02751115,  3.40771333,  3.7879155 ,\n",
       "         4.16811768]),\n",
       " <a list of 20 Patch objects>)"
      ]
     },
     "execution_count": 75,
     "metadata": {},
     "output_type": "execute_result"
    },
    {
     "data": {
      "image/png": "[encoded data removed]",
      "text/plain": [
       "<Figure size 750x375 with 1 Axes>"
      ]
     },
     "metadata": {
      "needs_background": "light"
     },
     "output_type": "display_data"
    }
   ],
   "source": [
    "n = 10000 # number of unit records\n",
    "frac_green = 0.5  # fraction of population that are green\n",
    "def generate_data(n, delta_loc_green=0.1, delta_scale_green=0, seed=1, uniform=False, frac_green=0.5):\n",
    "    loc = 0.0\n",
    "    scale = 1.0\n",
    "    rnd = np.random.RandomState(seed=1)\n",
    "    X_isgreen = rnd.choice([0,1], size=n, p=[1 - frac_green, frac_green]).astype(bool)\n",
    "    n_green = np.sum(X_isgreen)\n",
    "    n_nogreen = n - n_green\n",
    "    \n",
    "    X1_green = rnd.normal(loc=(loc + delta_loc_green), scale=(scale + delta_scale_green), size=n_green)\n",
    "    X1_nogreen = rnd.normal(loc=loc, scale=scale, size=n_nogreen)\n",
    "    X1 = np.zeros(n)\n",
    "    X1[X_isgreen] = X1_green\n",
    "    X1[~X_isgreen] = X1_nogreen\n",
    "    return np.vstack((X1, X_isgreen)).T\n",
    "\n",
    "X_latent = generate_data(n, seed=1)\n",
    "isgreen = X_latent[:, 1].astype(bool)\n",
    "pl.figure(figsize=(5,2.5), dpi=150)\n",
    "pl.hist(X_latent[:, 0][isgreen], bins=20)\n",
    "pl.hist(X_latent[:, 0][~isgreen], bins=20)\n"
   ]
  },
  {
   "cell_type": "code",
   "execution_count": 76,
   "metadata": {},
   "outputs": [],
   "source": [
    "def logistic(x, L, k, x_0):\n",
    "    r = L / (1 + np.exp( -1 * k * (x - x_0) ))\n",
    "    return r\n",
    "\n",
    "def true_prob(X):\n",
    "    L = 0.75\n",
    "    k = 1\n",
    "    x0 = 10.0\n",
    "    base_rate = 0.8    \n",
    "    p = base_rate - logistic(X[:,0], L, k, x0)\n",
    "    return p\n",
    "    \n",
    "P = true_prob(X_latent)"
   ]
  },
  {
   "cell_type": "code",
   "execution_count": 68,
   "metadata": {},
   "outputs": [
    {
     "data": {
      "text/plain": [
       "(10000, 2)"
      ]
     },
     "execution_count": 68,
     "metadata": {},
     "output_type": "execute_result"
    }
   ],
   "source": [
    "rnd = np.random.RandomState(seed)\n",
    "results = rnd.uniform(size=p.shape) < p\n",
    "return p, results\n",
    "\n",
    "# Note I'm getting the true prob here\n",
    "P, Y = true_prob(X_latent, delta_x0=0.1)\n",
    "\n",
    "\n",
    "\n",
    "def draw_observations(X_latent, seed=1, loc=0.0, scale=1.0):\n",
    "    rnd = np.random.RandomState(seed)\n",
    "    X_noise = X_latent[:, 0] + rnd.normal(loc=loc, scale=scale, size=X.shape[0])\n",
    "    return np.vstack((X_noise, X_latent[:,1])).T\n",
    "\n",
    "X = draw_observations(X_latent)\n",
    "\n",
    "\n",
    "X.shape\n",
    "\n",
    "\n"
   ]
  },
  {
   "cell_type": "code",
   "execution_count": 69,
   "metadata": {},
   "outputs": [
    {
     "name": "stdout",
     "output_type": "stream",
     "text": [
      "Accuracy: 0.82\n",
      "Frac green selected: 0.37\n",
      "Frac green guilty: 0.4956\n"
     ]
    }
   ],
   "source": [
    "n_select = 100\n",
    "\n",
    "model = LogisticRegression(solver='lbfgs')\n",
    "# model = LogisticRegression(class_weight='balanced', solver='lbfgs')\n",
    "# model = SVC(probability=True, kernel='poly')\n",
    "model.fit(X, Y)\n",
    "p_est = model.predict_proba(X)[:, 1]\n",
    "\n",
    "\n",
    "# rank and select the top\n",
    "rank = np.argsort(p_est)[::-1]\n",
    "p_rank = p_est[rank][0:n_select]\n",
    "p_true = p[rank][0:n_select]\n",
    "y_true = Y[rank][0:n_select]\n",
    "acc = np.sum(y_true) / y_true.shape[0]\n",
    "frac_green = np.sum(X[:,1][rank][0:n_select]) / n_select\n",
    "print(\"Accuracy: {}\".format(acc))\n",
    "print(\"Frac green selected: {}\".format(frac_green))\n",
    "print(\"Frac green guilty: {}\".format(np.sum(X[:, 1]) / X.shape[0]))"
   ]
  },
  {
   "cell_type": "code",
   "execution_count": null,
   "metadata": {},
   "outputs": [],
   "source": []
  }
 ],
 "metadata": {
  "kernelspec": {
   "display_name": "Python 3",
   "language": "python",
   "name": "python3"
  },
  "language_info": {
   "codemirror_mode": {
    "name": "ipython",
    "version": 3
   },
   "file_extension": ".py",
   "mimetype": "text/x-python",
   "name": "python",
   "nbconvert_exporter": "python",
   "pygments_lexer": "ipython3",
   "version": "3.7.2"
  }
 },
 "nbformat": 4,
 "nbformat_minor": 2
}
