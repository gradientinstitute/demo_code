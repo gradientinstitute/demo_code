{
 "cells": [
  {
   "cell_type": "code",
   "execution_count": 9,
   "metadata": {},
   "outputs": [],
   "source": [
    "# Import libraries:\n",
    "import numpy as np\n",
    "from sklearn.linear_model import LogisticRegression\n",
    "from sklearn.metrics import confusion_matrix\n",
    "import matplotlib.pyplot as pl\n",
    "%matplotlib inline"
   ]
  },
  {
   "cell_type": "markdown",
   "metadata": {},
   "source": [
    "# Ranking and Fair Selection\n",
    "\n",
    "\n",
    "Imagine a government building an AI-driven auditing system to find people at 'high risk' of being tax cheats, and then auditing them based on that risk. This is a pretty common use case, in fact a number of government already use ML in this way to do targeted auditing of various kinds.\n",
    "\n",
    "The approach here is to take the historical records of auditing results and use them to build a model that maps data available about the whole cohort to a risk score. There are many interesting and difficult ethical challenges here, but this blog entry wants to focus on one: once we have a risk score, how do we select who to audit?\n",
    "\n",
    "- small change re. gender skews rankings\n",
    "- different models? or draws from noise below\n",
    "- draws of noise totally change rangkings\n",
    "- discontinuity implies invidivual fairness not satisfied\n",
    "- accuracy/cost slightly better with rankings\n",
    "- covariate shift on the relative propensity of the genders\n",
    "- ranking means you never observe most of the space\n",
    "- plot error rate vs size of samples -- curve has different behaviour\n",
    "- conceptually, difference between auditing and university admission -- could\n",
    "- terry tao miss out at uni?\n",
    "- is there some explict work here on the probability our model is wrong\n",
    "- doing utility function question on the utils\n",
    "- define costs for false positives and false negatives then see what happens\n",
    "- over the whole cohort\n",
    "\n",
    "\n",
    "\n"
   ]
  },
  {
   "cell_type": "code",
   "execution_count": 15,
   "metadata": {},
   "outputs": [
    {
     "data": {
      "text/plain": [
       "(array([5.963e+03, 1.708e+03, 9.050e+02, 5.140e+02, 3.270e+02, 1.860e+02,\n",
       "        1.530e+02, 9.400e+01, 4.000e+01, 3.700e+01, 2.900e+01, 1.000e+01,\n",
       "        1.100e+01, 5.000e+00, 4.000e+00, 5.000e+00, 6.000e+00, 0.000e+00,\n",
       "        2.000e+00, 1.000e+00]),\n",
       " array([6.23084660e-08, 3.55407509e+00, 7.10815012e+00, 1.06622251e+01,\n",
       "        1.42163002e+01, 1.77703752e+01, 2.13244502e+01, 2.48785253e+01,\n",
       "        2.84326003e+01, 3.19866753e+01, 3.55407503e+01, 3.90948254e+01,\n",
       "        4.26489004e+01, 4.62029754e+01, 4.97570505e+01, 5.33111255e+01,\n",
       "        5.68652005e+01, 6.04192755e+01, 6.39733506e+01, 6.75274256e+01,\n",
       "        7.10815006e+01]),\n",
       " <a list of 20 Patch objects>)"
      ]
     },
     "execution_count": 15,
     "metadata": {},
     "output_type": "execute_result"
    },
    {
     "data": {
      "image/png": "[encoded data removed]",
      "text/plain": [
       "<Figure size 750x375 with 1 Axes>"
      ]
     },
     "metadata": {
      "needs_background": "light"
     },
     "output_type": "display_data"
    }
   ],
   "source": [
    "n = 10000 # number of unit records\n",
    "frac_green = 0.5  # fraction of population that are green\n",
    "def generate_data(n, seed=1, uniform=False):\n",
    "    rnd = np.random.RandomState(seed=1)\n",
    "    a = 0.5\n",
    "    b = 10\n",
    "    X1 = rnd.uniform(low=0., high=50., size=n) if uniform else rnd.gamma(a, b, size=n)\n",
    "    X2 = rnd.choice([0,1], size=n, p=[1 - frac_green, frac_green])\n",
    "    return np.vstack((X1, X2)).T\n",
    "\n",
    "X_latent = generate_data(n, seed=1)\n",
    "pl.figure(figsize=(5,2.5), dpi=150)\n",
    "pl.hist(X_latent[:, 0], bins=20)\n"
   ]
  },
  {
   "cell_type": "code",
   "execution_count": 17,
   "metadata": {},
   "outputs": [],
   "source": [
    "\n",
    "\n",
    "def draw_observations(X_latent, seed=1, loc=0.0, scale=1.0):\n",
    "    rnd = np.random.RandomState(seed)\n",
    "    X_noise = X_latent[:, 0] + rnd.normal(loc=loc, scale=scale, size=X.shape[0])\n",
    "    return X_noise\n",
    "\n",
    "X = draw_observations(X_latent)\n",
    "\n",
    "\n",
    "\n",
    "\n",
    "\n"
   ]
  },
  {
   "cell_type": "code",
   "execution_count": 30,
   "metadata": {},
   "outputs": [
    {
     "data": {
      "text/plain": [
       "<matplotlib.collections.PathCollection at 0x7f99a0120550>"
      ]
     },
     "execution_count": 30,
     "metadata": {},
     "output_type": "execute_result"
    },
    {
     "data": {
      "image/png": "[encoded data removed]",
      "text/plain": [
       "<Figure size 432x288 with 1 Axes>"
      ]
     },
     "metadata": {
      "needs_background": "light"
     },
     "output_type": "display_data"
    }
   ],
   "source": [
    "def logistic(x, L, k, x_0):\n",
    "    r = L / (1 + np.exp( -1 * k * (x - x_0) ))\n",
    "    return r\n",
    "\n",
    "def true_prob(X, delta_L=0, delta_k=0, delta_x0=0):\n",
    "    L_0 = 0.75\n",
    "    L_1 = L_0 + delta_L\n",
    "    k_0 = 1\n",
    "    k_1 = k_0 + delta_k\n",
    "    x0_0 = 10.0\n",
    "    x0_1 = x0_0 + delta_x0\n",
    "    base_rate = 0.8\n",
    "    \n",
    "    is_green = X[:, 1].astype(bool)\n",
    "    X0 = X[:,0][is_green]\n",
    "    X1 = X[:,0][~is_green]\n",
    "    \n",
    "    p0 = base_rate - logistic(X0, L_0, k_0, x0_0)\n",
    "    p1 = base_rate - logistic(X1, L_1, k_1, x0_1)\n",
    "    p = np.zeros(X.shape[0])\n",
    "    p[is_green] = p0\n",
    "    p[~is_green] = p1\n",
    "    results = np.random.uniform(size=p.shape) < p\n",
    "    return p, results\n",
    "\n",
    "P, Y = true_prob(X, delta_x0=0.1)\n",
    "\n",
    "pl.figure()\n",
    "pl.scatter(X[:,0], P)"
   ]
  },
  {
   "cell_type": "code",
   "execution_count": null,
   "metadata": {},
   "outputs": [],
   "source": [
    "n_select = 100\n",
    "\n",
    "\n",
    "\n",
    "\n",
    "\n",
    "\n",
    "X = generate_data(n)\n",
    "p, Y = true_prob(X)\n",
    "\n",
    "model = LogisticRegression(solver='lbfgs')\n",
    "# model = LogisticRegression(class_weight='balanced', solver='lbfgs')\n",
    "# model = SVC(probability=True, kernel='poly')\n",
    "model.fit(X, Y)\n",
    "p_est = model.predict_proba(X)[:, 1]\n",
    "\n",
    "\n",
    "# rank and select the top\n",
    "rank = np.argsort(p_est)[::-1]\n",
    "p_rank = p_est[rank][0:n_select]\n",
    "p_true = p[rank][0:n_select]\n",
    "y_true = Y[rank][0:n_select]\n",
    "acc = np.sum(y_true) / y_true.shape[0]"
   ]
  }
 ],
 "metadata": {
  "kernelspec": {
   "display_name": "Python 3",
   "language": "python",
   "name": "python3"
  },
  "language_info": {
   "codemirror_mode": {
    "name": "ipython",
    "version": 3
   },
   "file_extension": ".py",
   "mimetype": "text/x-python",
   "name": "python",
   "nbconvert_exporter": "python",
   "pygments_lexer": "ipython3",
   "version": "3.7.2"
  }
 },
 "nbformat": 4,
 "nbformat_minor": 2
}
